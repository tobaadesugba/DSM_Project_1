{
  "cells": [
    {
      "cell_type": "code",
      "execution_count": null,
      "metadata": {
        "id": "JgLa6DdRW5rV"
      },
      "outputs": [],
      "source": [
        "import pandas as pd\n",
        "import numpy as np\n",
        "import matplotlib.pyplot as plt\n",
        "import seaborn as sns"
      ]
    },
    {
      "cell_type": "code",
      "source": [
        "from google.colab import drive\n",
        "drive.mount('/content/drive')"
      ],
      "metadata": {
        "colab": {
          "base_uri": "https://localhost:8080/"
        },
        "id": "aS3ubZcsRMqg",
        "outputId": "0a5a6997-7670-425f-8e08-bfa80b8e96e1"
      },
      "execution_count": null,
      "outputs": [
        {
          "output_type": "stream",
          "name": "stdout",
          "text": [
            "Drive already mounted at /content/drive; to attempt to forcibly remount, call drive.mount(\"/content/drive\", force_remount=True).\n"
          ]
        }
      ]
    },
    {
      "cell_type": "code",
      "execution_count": null,
      "metadata": {
        "id": "IJd5RfX7Xtrc"
      },
      "outputs": [],
      "source": [
        "df = pd.read_csv(\"/content/drive/MyDrive/healthcare-dataset-stroke-data.csv\")\n"
      ]
    },
    {
      "cell_type": "code",
      "execution_count": null,
      "metadata": {
        "id": "Fp-HOHR4ZPt2"
      },
      "outputs": [],
      "source": [
        "# Check for missing values\n",
        "missing = df.isnull().sum()\n",
        "\n",
        "# Check for duplicates\n",
        "duplicates = df.duplicated().sum()\n",
        "\n",
        "# Remove duplicates\n",
        "df = df.drop_duplicates()\n",
        "\n",
        "# Convert categorical columns to category dtype\n",
        "categorical_cols = ['gender', 'ever_married', 'work_type', 'Residence_type', 'smoking_status']\n",
        "for col in categorical_cols:\n",
        "    df[col] = df[col].astype('category')\n"
      ]
    },
    {
      "cell_type": "code",
      "execution_count": null,
      "metadata": {
        "colab": {
          "base_uri": "https://localhost:8080/"
        },
        "id": "1KDxMmFMiq3y",
        "outputId": "fc79c191-a777-43e9-eb87-ee3655eb2d30"
      },
      "outputs": [
        {
          "data": {
            "text/plain": [
              "id                     0\n",
              "gender                 0\n",
              "age                    0\n",
              "hypertension           0\n",
              "heart_disease          0\n",
              "ever_married           0\n",
              "work_type              0\n",
              "Residence_type         0\n",
              "avg_glucose_level      0\n",
              "bmi                  201\n",
              "smoking_status         0\n",
              "stroke                 0\n",
              "dtype: int64"
            ]
          },
          "execution_count": 5,
          "metadata": {},
          "output_type": "execute_result"
        }
      ],
      "source": [
        "missing"
      ]
    },
    {
      "cell_type": "code",
      "execution_count": null,
      "metadata": {
        "colab": {
          "base_uri": "https://localhost:8080/"
        },
        "id": "Mia5SH1f4JD0",
        "outputId": "21a3c16b-b04b-4f5c-f317-23f95e237ee6"
      },
      "outputs": [
        {
          "name": "stdout",
          "output_type": "stream",
          "text": [
            "id                   0.000000\n",
            "gender               0.000000\n",
            "age                  0.000000\n",
            "hypertension         0.000000\n",
            "heart_disease        0.000000\n",
            "ever_married         0.000000\n",
            "work_type            0.000000\n",
            "Residence_type       0.000000\n",
            "avg_glucose_level    0.000000\n",
            "bmi                  3.933464\n",
            "smoking_status       0.000000\n",
            "stroke               0.000000\n",
            "dtype: float64\n"
          ]
        }
      ],
      "source": [
        "# Using dataframe df: check percentage of missing values\n",
        "\n",
        "missing_values = df.isnull().sum().div(df.shape[0])\n",
        "missing_values_percent = missing_values * 100\n",
        "print(missing_values_percent)\n"
      ]
    },
    {
      "cell_type": "code",
      "execution_count": null,
      "metadata": {
        "id": "Rmw6G6CZ8Cv7"
      },
      "outputs": [],
      "source": [
        "# Drop rows with missing values since a little percentage is missing\n",
        "\n",
        "df = df.dropna()\n"
      ]
    },
    {
      "cell_type": "code",
      "execution_count": null,
      "metadata": {
        "id": "q276XfE08h88",
        "outputId": "71bffb8c-183b-40a7-f69d-6d33eb1025c6",
        "colab": {
          "base_uri": "https://localhost:8080/"
        }
      },
      "outputs": [
        {
          "output_type": "stream",
          "name": "stdout",
          "text": [
            "Unique values for column 'gender':\n",
            "- Female: 59.01%\n",
            "- Male: 40.97%\n",
            "- Other: 0.02%\n",
            "Unique values for column 'ever_married':\n",
            "- Yes: 65.27%\n",
            "- No: 34.73%\n",
            "Unique values for column 'work_type':\n",
            "- Private: 57.26%\n",
            "- Self-employed: 15.79%\n",
            "- children: 13.67%\n",
            "- Govt_job: 12.83%\n",
            "- Never_worked: 0.45%\n",
            "Unique values for column 'Residence_type':\n",
            "- Urban: 50.72%\n",
            "- Rural: 49.28%\n",
            "Unique values for column 'smoking_status':\n",
            "- never smoked: 37.73%\n",
            "- Unknown: 30.21%\n",
            "- formerly smoked: 17.05%\n",
            "- smokes: 15.01%\n"
          ]
        }
      ],
      "source": [
        "# Check unique values along with percentage that each unique value takes for every categorical column\n",
        "\n",
        "for col in df.select_dtypes(include='category'):\n",
        "    unique_values = df[col].value_counts()\n",
        "    total_values = len(df[col])\n",
        "    percentage = (unique_values / total_values) * 100\n",
        "    print(f\"Unique values for column '{col}':\")\n",
        "    for value, percent in zip(unique_values.index, percentage):\n",
        "        print(f\"- {value}: {percent:.2f}%\")\n"
      ]
    },
    {
      "cell_type": "code",
      "execution_count": null,
      "metadata": {
        "id": "F2NA_eBm-EGX"
      },
      "outputs": [],
      "source": [
        "# Drop rows that hold the value \"Other\" in the \"gender\" column\n",
        "\n",
        "df = df[df['gender'] != 'Other']\n"
      ]
    },
    {
      "cell_type": "code",
      "execution_count": null,
      "metadata": {
        "colab": {
          "base_uri": "https://localhost:8080/",
          "height": 300
        },
        "id": "mggJTzsJ_hqZ",
        "outputId": "0be86c0d-3c01-4ad0-f83c-431ffb764b56"
      },
      "outputs": [
        {
          "output_type": "execute_result",
          "data": {
            "text/plain": [
              "                 id          age  hypertension  heart_disease  \\\n",
              "count   4908.000000  4908.000000   4908.000000    4908.000000   \n",
              "mean   37060.423594    42.868810      0.091891       0.049511   \n",
              "std    20995.468407    22.556128      0.288901       0.216954   \n",
              "min       77.000000     0.080000      0.000000       0.000000   \n",
              "25%    18602.500000    25.000000      0.000000       0.000000   \n",
              "50%    37580.500000    44.000000      0.000000       0.000000   \n",
              "75%    55181.750000    60.000000      0.000000       0.000000   \n",
              "max    72940.000000    82.000000      1.000000       1.000000   \n",
              "\n",
              "       avg_glucose_level         bmi       stroke  \n",
              "count        4908.000000  4908.00000  4908.000000  \n",
              "mean          105.297402    28.89456     0.042584  \n",
              "std            44.425550     7.85432     0.201937  \n",
              "min            55.120000    10.30000     0.000000  \n",
              "25%            77.067500    23.50000     0.000000  \n",
              "50%            91.680000    28.10000     0.000000  \n",
              "75%           113.495000    33.10000     0.000000  \n",
              "max           271.740000    97.60000     1.000000  "
            ],
            "text/html": [
              "\n",
              "  <div id=\"df-8eb4e9fe-7d95-46aa-8e56-86b513a2437f\" class=\"colab-df-container\">\n",
              "    <div>\n",
              "<style scoped>\n",
              "    .dataframe tbody tr th:only-of-type {\n",
              "        vertical-align: middle;\n",
              "    }\n",
              "\n",
              "    .dataframe tbody tr th {\n",
              "        vertical-align: top;\n",
              "    }\n",
              "\n",
              "    .dataframe thead th {\n",
              "        text-align: right;\n",
              "    }\n",
              "</style>\n",
              "<table border=\"1\" class=\"dataframe\">\n",
              "  <thead>\n",
              "    <tr style=\"text-align: right;\">\n",
              "      <th></th>\n",
              "      <th>id</th>\n",
              "      <th>age</th>\n",
              "      <th>hypertension</th>\n",
              "      <th>heart_disease</th>\n",
              "      <th>avg_glucose_level</th>\n",
              "      <th>bmi</th>\n",
              "      <th>stroke</th>\n",
              "    </tr>\n",
              "  </thead>\n",
              "  <tbody>\n",
              "    <tr>\n",
              "      <th>count</th>\n",
              "      <td>4908.000000</td>\n",
              "      <td>4908.000000</td>\n",
              "      <td>4908.000000</td>\n",
              "      <td>4908.000000</td>\n",
              "      <td>4908.000000</td>\n",
              "      <td>4908.00000</td>\n",
              "      <td>4908.000000</td>\n",
              "    </tr>\n",
              "    <tr>\n",
              "      <th>mean</th>\n",
              "      <td>37060.423594</td>\n",
              "      <td>42.868810</td>\n",
              "      <td>0.091891</td>\n",
              "      <td>0.049511</td>\n",
              "      <td>105.297402</td>\n",
              "      <td>28.89456</td>\n",
              "      <td>0.042584</td>\n",
              "    </tr>\n",
              "    <tr>\n",
              "      <th>std</th>\n",
              "      <td>20995.468407</td>\n",
              "      <td>22.556128</td>\n",
              "      <td>0.288901</td>\n",
              "      <td>0.216954</td>\n",
              "      <td>44.425550</td>\n",
              "      <td>7.85432</td>\n",
              "      <td>0.201937</td>\n",
              "    </tr>\n",
              "    <tr>\n",
              "      <th>min</th>\n",
              "      <td>77.000000</td>\n",
              "      <td>0.080000</td>\n",
              "      <td>0.000000</td>\n",
              "      <td>0.000000</td>\n",
              "      <td>55.120000</td>\n",
              "      <td>10.30000</td>\n",
              "      <td>0.000000</td>\n",
              "    </tr>\n",
              "    <tr>\n",
              "      <th>25%</th>\n",
              "      <td>18602.500000</td>\n",
              "      <td>25.000000</td>\n",
              "      <td>0.000000</td>\n",
              "      <td>0.000000</td>\n",
              "      <td>77.067500</td>\n",
              "      <td>23.50000</td>\n",
              "      <td>0.000000</td>\n",
              "    </tr>\n",
              "    <tr>\n",
              "      <th>50%</th>\n",
              "      <td>37580.500000</td>\n",
              "      <td>44.000000</td>\n",
              "      <td>0.000000</td>\n",
              "      <td>0.000000</td>\n",
              "      <td>91.680000</td>\n",
              "      <td>28.10000</td>\n",
              "      <td>0.000000</td>\n",
              "    </tr>\n",
              "    <tr>\n",
              "      <th>75%</th>\n",
              "      <td>55181.750000</td>\n",
              "      <td>60.000000</td>\n",
              "      <td>0.000000</td>\n",
              "      <td>0.000000</td>\n",
              "      <td>113.495000</td>\n",
              "      <td>33.10000</td>\n",
              "      <td>0.000000</td>\n",
              "    </tr>\n",
              "    <tr>\n",
              "      <th>max</th>\n",
              "      <td>72940.000000</td>\n",
              "      <td>82.000000</td>\n",
              "      <td>1.000000</td>\n",
              "      <td>1.000000</td>\n",
              "      <td>271.740000</td>\n",
              "      <td>97.60000</td>\n",
              "      <td>1.000000</td>\n",
              "    </tr>\n",
              "  </tbody>\n",
              "</table>\n",
              "</div>\n",
              "    <div class=\"colab-df-buttons\">\n",
              "\n",
              "  <div class=\"colab-df-container\">\n",
              "    <button class=\"colab-df-convert\" onclick=\"convertToInteractive('df-8eb4e9fe-7d95-46aa-8e56-86b513a2437f')\"\n",
              "            title=\"Convert this dataframe to an interactive table.\"\n",
              "            style=\"display:none;\">\n",
              "\n",
              "  <svg xmlns=\"http://www.w3.org/2000/svg\" height=\"24px\" viewBox=\"0 -960 960 960\">\n",
              "    <path d=\"M120-120v-720h720v720H120Zm60-500h600v-160H180v160Zm220 220h160v-160H400v160Zm0 220h160v-160H400v160ZM180-400h160v-160H180v160Zm440 0h160v-160H620v160ZM180-180h160v-160H180v160Zm440 0h160v-160H620v160Z\"/>\n",
              "  </svg>\n",
              "    </button>\n",
              "\n",
              "  <style>\n",
              "    .colab-df-container {\n",
              "      display:flex;\n",
              "      gap: 12px;\n",
              "    }\n",
              "\n",
              "    .colab-df-convert {\n",
              "      background-color: #E8F0FE;\n",
              "      border: none;\n",
              "      border-radius: 50%;\n",
              "      cursor: pointer;\n",
              "      display: none;\n",
              "      fill: #1967D2;\n",
              "      height: 32px;\n",
              "      padding: 0 0 0 0;\n",
              "      width: 32px;\n",
              "    }\n",
              "\n",
              "    .colab-df-convert:hover {\n",
              "      background-color: #E2EBFA;\n",
              "      box-shadow: 0px 1px 2px rgba(60, 64, 67, 0.3), 0px 1px 3px 1px rgba(60, 64, 67, 0.15);\n",
              "      fill: #174EA6;\n",
              "    }\n",
              "\n",
              "    .colab-df-buttons div {\n",
              "      margin-bottom: 4px;\n",
              "    }\n",
              "\n",
              "    [theme=dark] .colab-df-convert {\n",
              "      background-color: #3B4455;\n",
              "      fill: #D2E3FC;\n",
              "    }\n",
              "\n",
              "    [theme=dark] .colab-df-convert:hover {\n",
              "      background-color: #434B5C;\n",
              "      box-shadow: 0px 1px 3px 1px rgba(0, 0, 0, 0.15);\n",
              "      filter: drop-shadow(0px 1px 2px rgba(0, 0, 0, 0.3));\n",
              "      fill: #FFFFFF;\n",
              "    }\n",
              "  </style>\n",
              "\n",
              "    <script>\n",
              "      const buttonEl =\n",
              "        document.querySelector('#df-8eb4e9fe-7d95-46aa-8e56-86b513a2437f button.colab-df-convert');\n",
              "      buttonEl.style.display =\n",
              "        google.colab.kernel.accessAllowed ? 'block' : 'none';\n",
              "\n",
              "      async function convertToInteractive(key) {\n",
              "        const element = document.querySelector('#df-8eb4e9fe-7d95-46aa-8e56-86b513a2437f');\n",
              "        const dataTable =\n",
              "          await google.colab.kernel.invokeFunction('convertToInteractive',\n",
              "                                                    [key], {});\n",
              "        if (!dataTable) return;\n",
              "\n",
              "        const docLinkHtml = 'Like what you see? Visit the ' +\n",
              "          '<a target=\"_blank\" href=https://colab.research.google.com/notebooks/data_table.ipynb>data table notebook</a>'\n",
              "          + ' to learn more about interactive tables.';\n",
              "        element.innerHTML = '';\n",
              "        dataTable['output_type'] = 'display_data';\n",
              "        await google.colab.output.renderOutput(dataTable, element);\n",
              "        const docLink = document.createElement('div');\n",
              "        docLink.innerHTML = docLinkHtml;\n",
              "        element.appendChild(docLink);\n",
              "      }\n",
              "    </script>\n",
              "  </div>\n",
              "\n",
              "\n",
              "<div id=\"df-e6731656-ec8a-4e73-a17f-2fbd127186c8\">\n",
              "  <button class=\"colab-df-quickchart\" onclick=\"quickchart('df-e6731656-ec8a-4e73-a17f-2fbd127186c8')\"\n",
              "            title=\"Suggest charts\"\n",
              "            style=\"display:none;\">\n",
              "\n",
              "<svg xmlns=\"http://www.w3.org/2000/svg\" height=\"24px\"viewBox=\"0 0 24 24\"\n",
              "     width=\"24px\">\n",
              "    <g>\n",
              "        <path d=\"M19 3H5c-1.1 0-2 .9-2 2v14c0 1.1.9 2 2 2h14c1.1 0 2-.9 2-2V5c0-1.1-.9-2-2-2zM9 17H7v-7h2v7zm4 0h-2V7h2v10zm4 0h-2v-4h2v4z\"/>\n",
              "    </g>\n",
              "</svg>\n",
              "  </button>\n",
              "\n",
              "<style>\n",
              "  .colab-df-quickchart {\n",
              "      --bg-color: #E8F0FE;\n",
              "      --fill-color: #1967D2;\n",
              "      --hover-bg-color: #E2EBFA;\n",
              "      --hover-fill-color: #174EA6;\n",
              "      --disabled-fill-color: #AAA;\n",
              "      --disabled-bg-color: #DDD;\n",
              "  }\n",
              "\n",
              "  [theme=dark] .colab-df-quickchart {\n",
              "      --bg-color: #3B4455;\n",
              "      --fill-color: #D2E3FC;\n",
              "      --hover-bg-color: #434B5C;\n",
              "      --hover-fill-color: #FFFFFF;\n",
              "      --disabled-bg-color: #3B4455;\n",
              "      --disabled-fill-color: #666;\n",
              "  }\n",
              "\n",
              "  .colab-df-quickchart {\n",
              "    background-color: var(--bg-color);\n",
              "    border: none;\n",
              "    border-radius: 50%;\n",
              "    cursor: pointer;\n",
              "    display: none;\n",
              "    fill: var(--fill-color);\n",
              "    height: 32px;\n",
              "    padding: 0;\n",
              "    width: 32px;\n",
              "  }\n",
              "\n",
              "  .colab-df-quickchart:hover {\n",
              "    background-color: var(--hover-bg-color);\n",
              "    box-shadow: 0 1px 2px rgba(60, 64, 67, 0.3), 0 1px 3px 1px rgba(60, 64, 67, 0.15);\n",
              "    fill: var(--button-hover-fill-color);\n",
              "  }\n",
              "\n",
              "  .colab-df-quickchart-complete:disabled,\n",
              "  .colab-df-quickchart-complete:disabled:hover {\n",
              "    background-color: var(--disabled-bg-color);\n",
              "    fill: var(--disabled-fill-color);\n",
              "    box-shadow: none;\n",
              "  }\n",
              "\n",
              "  .colab-df-spinner {\n",
              "    border: 2px solid var(--fill-color);\n",
              "    border-color: transparent;\n",
              "    border-bottom-color: var(--fill-color);\n",
              "    animation:\n",
              "      spin 1s steps(1) infinite;\n",
              "  }\n",
              "\n",
              "  @keyframes spin {\n",
              "    0% {\n",
              "      border-color: transparent;\n",
              "      border-bottom-color: var(--fill-color);\n",
              "      border-left-color: var(--fill-color);\n",
              "    }\n",
              "    20% {\n",
              "      border-color: transparent;\n",
              "      border-left-color: var(--fill-color);\n",
              "      border-top-color: var(--fill-color);\n",
              "    }\n",
              "    30% {\n",
              "      border-color: transparent;\n",
              "      border-left-color: var(--fill-color);\n",
              "      border-top-color: var(--fill-color);\n",
              "      border-right-color: var(--fill-color);\n",
              "    }\n",
              "    40% {\n",
              "      border-color: transparent;\n",
              "      border-right-color: var(--fill-color);\n",
              "      border-top-color: var(--fill-color);\n",
              "    }\n",
              "    60% {\n",
              "      border-color: transparent;\n",
              "      border-right-color: var(--fill-color);\n",
              "    }\n",
              "    80% {\n",
              "      border-color: transparent;\n",
              "      border-right-color: var(--fill-color);\n",
              "      border-bottom-color: var(--fill-color);\n",
              "    }\n",
              "    90% {\n",
              "      border-color: transparent;\n",
              "      border-bottom-color: var(--fill-color);\n",
              "    }\n",
              "  }\n",
              "</style>\n",
              "\n",
              "  <script>\n",
              "    async function quickchart(key) {\n",
              "      const quickchartButtonEl =\n",
              "        document.querySelector('#' + key + ' button');\n",
              "      quickchartButtonEl.disabled = true;  // To prevent multiple clicks.\n",
              "      quickchartButtonEl.classList.add('colab-df-spinner');\n",
              "      try {\n",
              "        const charts = await google.colab.kernel.invokeFunction(\n",
              "            'suggestCharts', [key], {});\n",
              "      } catch (error) {\n",
              "        console.error('Error during call to suggestCharts:', error);\n",
              "      }\n",
              "      quickchartButtonEl.classList.remove('colab-df-spinner');\n",
              "      quickchartButtonEl.classList.add('colab-df-quickchart-complete');\n",
              "    }\n",
              "    (() => {\n",
              "      let quickchartButtonEl =\n",
              "        document.querySelector('#df-e6731656-ec8a-4e73-a17f-2fbd127186c8 button');\n",
              "      quickchartButtonEl.style.display =\n",
              "        google.colab.kernel.accessAllowed ? 'block' : 'none';\n",
              "    })();\n",
              "  </script>\n",
              "</div>\n",
              "\n",
              "    </div>\n",
              "  </div>\n"
            ],
            "application/vnd.google.colaboratory.intrinsic+json": {
              "type": "dataframe",
              "summary": "{\n  \"name\": \"df\",\n  \"rows\": 8,\n  \"fields\": [\n    {\n      \"column\": \"id\",\n      \"properties\": {\n        \"dtype\": \"number\",\n        \"std\": 24826.575265932704,\n        \"min\": 77.0,\n        \"max\": 72940.0,\n        \"num_unique_values\": 8,\n        \"samples\": [\n          37060.42359413203,\n          37580.5,\n          4908.0\n        ],\n        \"semantic_type\": \"\",\n        \"description\": \"\"\n      }\n    },\n    {\n      \"column\": \"age\",\n      \"properties\": {\n        \"dtype\": \"number\",\n        \"std\": 1721.453251870269,\n        \"min\": 0.08,\n        \"max\": 4908.0,\n        \"num_unique_values\": 8,\n        \"samples\": [\n          42.86881010594947,\n          44.0,\n          4908.0\n        ],\n        \"semantic_type\": \"\",\n        \"description\": \"\"\n      }\n    },\n    {\n      \"column\": \"hypertension\",\n      \"properties\": {\n        \"dtype\": \"number\",\n        \"std\": 1735.1703342432231,\n        \"min\": 0.0,\n        \"max\": 4908.0,\n        \"num_unique_values\": 5,\n        \"samples\": [\n          0.09189079054604726,\n          1.0,\n          0.2889011575593888\n        ],\n        \"semantic_type\": \"\",\n        \"description\": \"\"\n      }\n    },\n    {\n      \"column\": \"heart_disease\",\n      \"properties\": {\n        \"dtype\": \"number\",\n        \"std\": 1735.1761086357435,\n        \"min\": 0.0,\n        \"max\": 4908.0,\n        \"num_unique_values\": 5,\n        \"samples\": [\n          0.049511002444987774,\n          1.0,\n          0.21695449613757195\n        ],\n        \"semantic_type\": \"\",\n        \"description\": \"\"\n      }\n    },\n    {\n      \"column\": \"avg_glucose_level\",\n      \"properties\": {\n        \"dtype\": \"number\",\n        \"std\": 1698.3823359268606,\n        \"min\": 44.42555018990285,\n        \"max\": 4908.0,\n        \"num_unique_values\": 8,\n        \"samples\": [\n          105.297402200489,\n          91.68,\n          4908.0\n        ],\n        \"semantic_type\": \"\",\n        \"description\": \"\"\n      }\n    },\n    {\n      \"column\": \"bmi\",\n      \"properties\": {\n        \"dtype\": \"number\",\n        \"std\": 1723.8820690860887,\n        \"min\": 7.854319913144672,\n        \"max\": 4908.0,\n        \"num_unique_values\": 8,\n        \"samples\": [\n          28.894559902200488,\n          28.1,\n          4908.0\n        ],\n        \"semantic_type\": \"\",\n        \"description\": \"\"\n      }\n    },\n    {\n      \"column\": \"stroke\",\n      \"properties\": {\n        \"dtype\": \"number\",\n        \"std\": 1735.1772170704817,\n        \"min\": 0.0,\n        \"max\": 4908.0,\n        \"num_unique_values\": 5,\n        \"samples\": [\n          0.04258353708231459,\n          1.0,\n          0.2019368416789428\n        ],\n        \"semantic_type\": \"\",\n        \"description\": \"\"\n      }\n    }\n  ]\n}"
            }
          },
          "metadata": {},
          "execution_count": 6
        }
      ],
      "source": [
        "# check non categorical columns and display description\n",
        "\n",
        "df.select_dtypes(exclude='category').describe()\n"
      ]
    },
    {
      "cell_type": "code",
      "execution_count": null,
      "metadata": {
        "id": "2mYyIPSQAdYT"
      },
      "outputs": [],
      "source": [
        "# convert the values in the age column to int type\n",
        "\n",
        "df['age'] = df['age'].astype(int)\n"
      ]
    },
    {
      "cell_type": "markdown",
      "metadata": {
        "id": "gY4se17dLkF3"
      },
      "source": [
        "Strokes in children from 29 days to 18 years old are often associated with existing conditions, most commonly congenital heart disease and sickle cell disease. Other risk factors include infectious diseases, trauma to the head or neck, vascular problems and blood disorders.\n",
        "\n",
        "https://www.stroke.org.uk/childhood-stroke/about-childhood-stroke#:~:text=Strokes%20in%20children%20from%2029,vascular%20problems%20and%20blood%20disorders."
      ]
    },
    {
      "cell_type": "code",
      "execution_count": null,
      "metadata": {
        "colab": {
          "base_uri": "https://localhost:8080/"
        },
        "id": "Pkl86YqMJxpk",
        "outputId": "f9a6dff2-9ab9-4d77-ea4a-0d0087b3bbaf"
      },
      "outputs": [
        {
          "name": "stdout",
          "output_type": "stream",
          "text": [
            "99.88% of young people (age < 18) have no heart disease.\n",
            "99.88% of young people (age < 18) have no stroke.\n"
          ]
        }
      ],
      "source": [
        "# check the rows that have the age column below 10 and check percentage of those that have heart disease value as 0.\n",
        "\n",
        "young_df = df[df['age'] < 18]\n",
        "heart_disease_zeros = young_df[young_df['heart_disease'] == 0]\n",
        "percentage = (len(heart_disease_zeros) / len(young_df)) * 100\n",
        "print(f\"{percentage:.2f}% of young people (age < 18) have no heart disease.\")\n",
        "\n",
        "stroke_zeros = young_df[young_df['stroke'] == 0]\n",
        "percentage_stroke = (len(stroke_zeros) / len(young_df)) * 100\n",
        "print(f\"{percentage_stroke:.2f}% of young people (age < 18) have no stroke.\")"
      ]
    },
    {
      "cell_type": "markdown",
      "metadata": {
        "id": "UH43iWPSXybG"
      },
      "source": [
        "Apparently some kids (below 18) also work according to this dataset"
      ]
    },
    {
      "cell_type": "code",
      "execution_count": null,
      "metadata": {
        "colab": {
          "base_uri": "https://localhost:8080/"
        },
        "id": "7yaPrpfiQOZQ",
        "outputId": "4b834ac5-ce7e-46ba-e93e-b247ed12edd6"
      },
      "outputs": [
        {
          "name": "stdout",
          "output_type": "stream",
          "text": [
            "19.74% of young people (age < 18) don't have 'work_type' value as children.\n"
          ]
        }
      ],
      "source": [
        "# check the rows that have the age column below 18 and display the percentage that DON'T have 'work_type' value as children.\n",
        "\n",
        "not_children_work_type = young_df[young_df['work_type'] != 'children']\n",
        "percentage = (len(not_children_work_type) / len(young_df)) * 100\n",
        "print(f\"{percentage:.2f}% of young people (age < 18) don't have 'work_type' value as children.\")\n"
      ]
    },
    {
      "cell_type": "code",
      "execution_count": null,
      "metadata": {
        "colab": {
          "base_uri": "https://localhost:8080/"
        },
        "id": "YduyN5JBZg8Q",
        "outputId": "a96e21af-4dc4-4601-cd00-78e0e1995131"
      },
      "outputs": [
        {
          "output_type": "execute_result",
          "data": {
            "text/plain": [
              "stroke\n",
              "0    95.741646\n",
              "1     4.258354\n",
              "Name: proportion, dtype: float64"
            ]
          },
          "metadata": {},
          "execution_count": 12
        }
      ],
      "source": [
        "# check if the target column is skewed\n",
        "\n",
        "df['stroke'].value_counts(normalize=True) * 100\n"
      ]
    },
    {
      "cell_type": "code",
      "execution_count": null,
      "metadata": {
        "colab": {
          "base_uri": "https://localhost:8080/"
        },
        "id": "ZSpqGc-ui-ZC",
        "outputId": "e5eb14a6-f3b6-46c9-d80a-b8dd42381a93"
      },
      "outputs": [
        {
          "data": {
            "text/plain": [
              "(4908, 12)"
            ]
          },
          "execution_count": 17,
          "metadata": {},
          "output_type": "execute_result"
        }
      ],
      "source": [
        "df.shape"
      ]
    },
    {
      "cell_type": "code",
      "execution_count": null,
      "metadata": {
        "colab": {
          "base_uri": "https://localhost:8080/"
        },
        "id": "r9GqtkFppm17",
        "outputId": "bc9ad44c-dc40-488e-87f9-65fc157e01d1"
      },
      "outputs": [
        {
          "name": "stdout",
          "output_type": "stream",
          "text": [
            "Percentage of gender for people who had stroke:\n",
            "gender\n",
            "0    57.416268\n",
            "1    42.583732\n",
            "Name: proportion, dtype: float64\n",
            "\n",
            "Percentage of gender for people who didn't have stroke:\n",
            "gender\n",
            "0    59.09768\n",
            "1    40.90232\n",
            "Name: proportion, dtype: float64\n"
          ]
        }
      ],
      "source": [
        "# percentage comparison of the gender of people who had stroke and those who didn't\n",
        "\n",
        "stroke_yes = df[df['stroke'] == 1]\n",
        "stroke_no = df[df['stroke'] == 0]\n",
        "\n",
        "gender_stroke_yes = stroke_yes['gender'].value_counts(normalize=True) * 100\n",
        "gender_stroke_no = stroke_no['gender'].value_counts(normalize=True) * 100\n",
        "\n",
        "print(\"Percentage of gender for people who had stroke:\")\n",
        "print(gender_stroke_yes)\n",
        "\n",
        "print(\"\\nPercentage of gender for people who didn't have stroke:\")\n",
        "print(gender_stroke_no)"
      ]
    },
    {
      "cell_type": "code",
      "execution_count": null,
      "metadata": {
        "id": "cN0oX40-uFrN"
      },
      "outputs": [],
      "source": [
        "# encode categorical values\n",
        "\n",
        "df['gender'] = df['gender'].astype('category').cat.codes\n",
        "df['ever_married'] = df['ever_married'].astype('category').cat.codes\n",
        "df['work_type'] = df['work_type'].astype('category').cat.codes\n",
        "df['Residence_type'] = df['Residence_type'].astype('category').cat.codes\n",
        "df['smoking_status'] = df['smoking_status'].astype('category').cat.codes\n"
      ]
    },
    {
      "cell_type": "code",
      "execution_count": null,
      "metadata": {
        "id": "WuuQQwvlYpKy",
        "outputId": "c6a954c8-a763-4236-9270-7150cb73f500"
      },
      "outputs": [
        {
          "data": {
            "text/html": [
              "<div>\n",
              "<style scoped>\n",
              "    .dataframe tbody tr th:only-of-type {\n",
              "        vertical-align: middle;\n",
              "    }\n",
              "\n",
              "    .dataframe tbody tr th {\n",
              "        vertical-align: top;\n",
              "    }\n",
              "\n",
              "    .dataframe thead th {\n",
              "        text-align: right;\n",
              "    }\n",
              "</style>\n",
              "<table border=\"1\" class=\"dataframe\">\n",
              "  <thead>\n",
              "    <tr style=\"text-align: right;\">\n",
              "      <th></th>\n",
              "      <th>id</th>\n",
              "      <th>gender</th>\n",
              "      <th>age</th>\n",
              "      <th>hypertension</th>\n",
              "      <th>heart_disease</th>\n",
              "      <th>ever_married</th>\n",
              "      <th>work_type</th>\n",
              "      <th>Residence_type</th>\n",
              "      <th>avg_glucose_level</th>\n",
              "      <th>bmi</th>\n",
              "      <th>smoking_status</th>\n",
              "      <th>stroke</th>\n",
              "    </tr>\n",
              "  </thead>\n",
              "  <tbody>\n",
              "    <tr>\n",
              "      <th>0</th>\n",
              "      <td>9046</td>\n",
              "      <td>1</td>\n",
              "      <td>67</td>\n",
              "      <td>0</td>\n",
              "      <td>1</td>\n",
              "      <td>1</td>\n",
              "      <td>2</td>\n",
              "      <td>1</td>\n",
              "      <td>228.69</td>\n",
              "      <td>36.6</td>\n",
              "      <td>1</td>\n",
              "      <td>1</td>\n",
              "    </tr>\n",
              "    <tr>\n",
              "      <th>2</th>\n",
              "      <td>31112</td>\n",
              "      <td>1</td>\n",
              "      <td>80</td>\n",
              "      <td>0</td>\n",
              "      <td>1</td>\n",
              "      <td>1</td>\n",
              "      <td>2</td>\n",
              "      <td>0</td>\n",
              "      <td>105.92</td>\n",
              "      <td>32.5</td>\n",
              "      <td>2</td>\n",
              "      <td>1</td>\n",
              "    </tr>\n",
              "    <tr>\n",
              "      <th>3</th>\n",
              "      <td>60182</td>\n",
              "      <td>0</td>\n",
              "      <td>49</td>\n",
              "      <td>0</td>\n",
              "      <td>0</td>\n",
              "      <td>1</td>\n",
              "      <td>2</td>\n",
              "      <td>1</td>\n",
              "      <td>171.23</td>\n",
              "      <td>34.4</td>\n",
              "      <td>3</td>\n",
              "      <td>1</td>\n",
              "    </tr>\n",
              "    <tr>\n",
              "      <th>4</th>\n",
              "      <td>1665</td>\n",
              "      <td>0</td>\n",
              "      <td>79</td>\n",
              "      <td>1</td>\n",
              "      <td>0</td>\n",
              "      <td>1</td>\n",
              "      <td>3</td>\n",
              "      <td>0</td>\n",
              "      <td>174.12</td>\n",
              "      <td>24.0</td>\n",
              "      <td>2</td>\n",
              "      <td>1</td>\n",
              "    </tr>\n",
              "    <tr>\n",
              "      <th>5</th>\n",
              "      <td>56669</td>\n",
              "      <td>1</td>\n",
              "      <td>81</td>\n",
              "      <td>0</td>\n",
              "      <td>0</td>\n",
              "      <td>1</td>\n",
              "      <td>2</td>\n",
              "      <td>1</td>\n",
              "      <td>186.21</td>\n",
              "      <td>29.0</td>\n",
              "      <td>1</td>\n",
              "      <td>1</td>\n",
              "    </tr>\n",
              "    <tr>\n",
              "      <th>...</th>\n",
              "      <td>...</td>\n",
              "      <td>...</td>\n",
              "      <td>...</td>\n",
              "      <td>...</td>\n",
              "      <td>...</td>\n",
              "      <td>...</td>\n",
              "      <td>...</td>\n",
              "      <td>...</td>\n",
              "      <td>...</td>\n",
              "      <td>...</td>\n",
              "      <td>...</td>\n",
              "      <td>...</td>\n",
              "    </tr>\n",
              "    <tr>\n",
              "      <th>5104</th>\n",
              "      <td>14180</td>\n",
              "      <td>0</td>\n",
              "      <td>13</td>\n",
              "      <td>0</td>\n",
              "      <td>0</td>\n",
              "      <td>0</td>\n",
              "      <td>4</td>\n",
              "      <td>0</td>\n",
              "      <td>103.08</td>\n",
              "      <td>18.6</td>\n",
              "      <td>0</td>\n",
              "      <td>0</td>\n",
              "    </tr>\n",
              "    <tr>\n",
              "      <th>5106</th>\n",
              "      <td>44873</td>\n",
              "      <td>0</td>\n",
              "      <td>81</td>\n",
              "      <td>0</td>\n",
              "      <td>0</td>\n",
              "      <td>1</td>\n",
              "      <td>3</td>\n",
              "      <td>1</td>\n",
              "      <td>125.20</td>\n",
              "      <td>40.0</td>\n",
              "      <td>2</td>\n",
              "      <td>0</td>\n",
              "    </tr>\n",
              "    <tr>\n",
              "      <th>5107</th>\n",
              "      <td>19723</td>\n",
              "      <td>0</td>\n",
              "      <td>35</td>\n",
              "      <td>0</td>\n",
              "      <td>0</td>\n",
              "      <td>1</td>\n",
              "      <td>3</td>\n",
              "      <td>0</td>\n",
              "      <td>82.99</td>\n",
              "      <td>30.6</td>\n",
              "      <td>2</td>\n",
              "      <td>0</td>\n",
              "    </tr>\n",
              "    <tr>\n",
              "      <th>5108</th>\n",
              "      <td>37544</td>\n",
              "      <td>1</td>\n",
              "      <td>51</td>\n",
              "      <td>0</td>\n",
              "      <td>0</td>\n",
              "      <td>1</td>\n",
              "      <td>2</td>\n",
              "      <td>0</td>\n",
              "      <td>166.29</td>\n",
              "      <td>25.6</td>\n",
              "      <td>1</td>\n",
              "      <td>0</td>\n",
              "    </tr>\n",
              "    <tr>\n",
              "      <th>5109</th>\n",
              "      <td>44679</td>\n",
              "      <td>0</td>\n",
              "      <td>44</td>\n",
              "      <td>0</td>\n",
              "      <td>0</td>\n",
              "      <td>1</td>\n",
              "      <td>0</td>\n",
              "      <td>1</td>\n",
              "      <td>85.28</td>\n",
              "      <td>26.2</td>\n",
              "      <td>0</td>\n",
              "      <td>0</td>\n",
              "    </tr>\n",
              "  </tbody>\n",
              "</table>\n",
              "<p>4908 rows × 12 columns</p>\n",
              "</div>"
            ],
            "text/plain": [
              "         id  gender  age  hypertension  heart_disease  ever_married  \\\n",
              "0      9046       1   67             0              1             1   \n",
              "2     31112       1   80             0              1             1   \n",
              "3     60182       0   49             0              0             1   \n",
              "4      1665       0   79             1              0             1   \n",
              "5     56669       1   81             0              0             1   \n",
              "...     ...     ...  ...           ...            ...           ...   \n",
              "5104  14180       0   13             0              0             0   \n",
              "5106  44873       0   81             0              0             1   \n",
              "5107  19723       0   35             0              0             1   \n",
              "5108  37544       1   51             0              0             1   \n",
              "5109  44679       0   44             0              0             1   \n",
              "\n",
              "      work_type  Residence_type  avg_glucose_level   bmi  smoking_status  \\\n",
              "0             2               1             228.69  36.6               1   \n",
              "2             2               0             105.92  32.5               2   \n",
              "3             2               1             171.23  34.4               3   \n",
              "4             3               0             174.12  24.0               2   \n",
              "5             2               1             186.21  29.0               1   \n",
              "...         ...             ...                ...   ...             ...   \n",
              "5104          4               0             103.08  18.6               0   \n",
              "5106          3               1             125.20  40.0               2   \n",
              "5107          3               0              82.99  30.6               2   \n",
              "5108          2               0             166.29  25.6               1   \n",
              "5109          0               1              85.28  26.2               0   \n",
              "\n",
              "      stroke  \n",
              "0          1  \n",
              "2          1  \n",
              "3          1  \n",
              "4          1  \n",
              "5          1  \n",
              "...      ...  \n",
              "5104       0  \n",
              "5106       0  \n",
              "5107       0  \n",
              "5108       0  \n",
              "5109       0  \n",
              "\n",
              "[4908 rows x 12 columns]"
            ]
          },
          "execution_count": 26,
          "metadata": {},
          "output_type": "execute_result"
        }
      ],
      "source": [
        "df"
      ]
    },
    {
      "cell_type": "code",
      "execution_count": null,
      "metadata": {
        "id": "wKQ4-77qYpKy",
        "outputId": "97d1f055-3e88-4654-8879-d7a3eca78b99",
        "colab": {
          "base_uri": "https://localhost:8080/"
        }
      },
      "outputs": [
        {
          "output_type": "execute_result",
          "data": {
            "text/plain": [
              "stroke\n",
              "0    4699\n",
              "1     209\n",
              "Name: count, dtype: int64"
            ]
          },
          "metadata": {},
          "execution_count": 14
        }
      ],
      "source": [
        "df.stroke.value_counts()"
      ]
    },
    {
      "cell_type": "code",
      "execution_count": null,
      "metadata": {
        "id": "kTRXUMe2YpKz"
      },
      "outputs": [],
      "source": [
        "import pandas as pd\n",
        "from sklearn.model_selection import train_test_split\n",
        "from imblearn.over_sampling import SMOTE\n",
        "from sklearn.ensemble import RandomForestClassifier\n",
        "from sklearn.metrics import classification_report\n",
        "\n",
        "X = df.drop(['stroke',\"id\"], axis=1)\n",
        "y = df['stroke']\n",
        "\n",
        "\n",
        "\n",
        "# Apply SMOTE to the training data\n",
        "smote = SMOTE(random_state=42)\n",
        "X_resampled, y_resampled = smote.fit_resample(X, y)\n",
        "# Split your data into training and testing sets\n",
        "X_train_resampled, X_test_resampled, y_train_resampled, y_test_resampled = train_test_split(X_resampled, y_resampled, test_size=0.2, random_state=42)\n"
      ]
    },
    {
      "cell_type": "code",
      "execution_count": null,
      "metadata": {
        "id": "Mm_itBRiYpKz",
        "outputId": "732dcb56-22f3-4e17-fcdb-a22113bbd567",
        "colab": {
          "base_uri": "https://localhost:8080/"
        }
      },
      "outputs": [
        {
          "output_type": "stream",
          "name": "stdout",
          "text": [
            "              precision    recall  f1-score   support\n",
            "\n",
            "           0       0.97      0.94      0.96       922\n",
            "           1       0.95      0.97      0.96       958\n",
            "\n",
            "    accuracy                           0.96      1880\n",
            "   macro avg       0.96      0.96      0.96      1880\n",
            "weighted avg       0.96      0.96      0.96      1880\n",
            "\n"
          ]
        }
      ],
      "source": [
        "\n",
        "# Train your model (example using RandomForestClassifier)\n",
        "clf_re = RandomForestClassifier(random_state=42)\n",
        "clf_re.fit(X_train_resampled, y_train_resampled)\n",
        "\n",
        "# Make predictions on the test set\n",
        "y_pred = clf_re.predict(X_test_resampled)\n",
        "\n",
        "# Evaluate your model\n",
        "print(classification_report(y_test_resampled, y_pred))\n"
      ]
    },
    {
      "cell_type": "code",
      "execution_count": null,
      "metadata": {
        "id": "dbYDMyKTYpKz",
        "outputId": "0a7ba5a0-8162-4ca4-ae94-363e803afb86",
        "colab": {
          "base_uri": "https://localhost:8080/"
        }
      },
      "outputs": [
        {
          "output_type": "stream",
          "name": "stdout",
          "text": [
            "              precision    recall  f1-score   support\n",
            "\n",
            "           0       0.95      1.00      0.97       929\n",
            "           1       0.00      0.00      0.00        53\n",
            "\n",
            "    accuracy                           0.95       982\n",
            "   macro avg       0.47      0.50      0.49       982\n",
            "weighted avg       0.89      0.95      0.92       982\n",
            "\n"
          ]
        },
        {
          "output_type": "stream",
          "name": "stderr",
          "text": [
            "/usr/local/lib/python3.10/dist-packages/sklearn/metrics/_classification.py:1344: UndefinedMetricWarning: Precision and F-score are ill-defined and being set to 0.0 in labels with no predicted samples. Use `zero_division` parameter to control this behavior.\n",
            "  _warn_prf(average, modifier, msg_start, len(result))\n",
            "/usr/local/lib/python3.10/dist-packages/sklearn/metrics/_classification.py:1344: UndefinedMetricWarning: Precision and F-score are ill-defined and being set to 0.0 in labels with no predicted samples. Use `zero_division` parameter to control this behavior.\n",
            "  _warn_prf(average, modifier, msg_start, len(result))\n",
            "/usr/local/lib/python3.10/dist-packages/sklearn/metrics/_classification.py:1344: UndefinedMetricWarning: Precision and F-score are ill-defined and being set to 0.0 in labels with no predicted samples. Use `zero_division` parameter to control this behavior.\n",
            "  _warn_prf(average, modifier, msg_start, len(result))\n"
          ]
        }
      ],
      "source": [
        "X_train, X_test, y_train, y_test= train_test_split(X, y, test_size=0.2, random_state=42)\n",
        "\n",
        "# Train your model (example using RandomForestClassifier)\n",
        "clf = RandomForestClassifier(random_state=42)\n",
        "clf.fit(X_train, y_train)\n",
        "\n",
        "# Make predictions on the test set\n",
        "y_pred = clf.predict(X_test)\n",
        "\n",
        "# Evaluate your model\n",
        "print(classification_report(y_test, y_pred))"
      ]
    },
    {
      "cell_type": "code",
      "source": [
        "import pickle\n",
        "\n",
        "# Open the file in binary mode\n",
        "with open(\"random_forest.pkl\", 'wb') as file:\n",
        "    # Serialize and write the variable to the file\n",
        "    pickle.dump(clf_re, file)"
      ],
      "metadata": {
        "id": "F-lERv5TtOsr"
      },
      "execution_count": null,
      "outputs": []
    }
  ],
  "metadata": {
    "colab": {
      "provenance": []
    },
    "kernelspec": {
      "display_name": "Python 3",
      "name": "python3"
    },
    "language_info": {
      "codemirror_mode": {
        "name": "ipython",
        "version": 3
      },
      "file_extension": ".py",
      "mimetype": "text/x-python",
      "name": "python",
      "nbconvert_exporter": "python",
      "pygments_lexer": "ipython3",
      "version": "3.11.6"
    }
  },
  "nbformat": 4,
  "nbformat_minor": 0
}